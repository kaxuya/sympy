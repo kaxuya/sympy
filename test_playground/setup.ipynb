{
 "cells": [
  {
   "cell_type": "markdown",
   "id": "d2baf528",
   "metadata": {},
   "source": [
    "## Setting up the repo after cloning\n",
    "\n",
    "```bash\n",
    "python -m venv .venv\n",
    "source .venv/bin/activate\n",
    "pip install -r requirements-dev.txt\n",
    "pip install -e .\n",
    "pip install ipykernel\n",
    "pip install lark # if working on parsing module\n",
    "```"
   ]
  },
  {
   "cell_type": "markdown",
   "id": "f96c8fe3",
   "metadata": {},
   "source": [
    "## Testing guide\n",
    "\n",
    "### Quality tests\n",
    "```bash\n",
    "python bin/test quality\n",
    "flake8 sympy/\n",
    "```\n",
    "\n",
    "### Tests\n",
    "```bash\n",
    "python bin/test\n",
    "pytest sympy/printing\n",
    "```"
   ]
  },
  {
   "cell_type": "markdown",
   "id": "f23da197",
   "metadata": {
    "vscode": {
     "languageId": "plaintext"
    }
   },
   "source": [
    "## Random stuff\n",
    "\n",
    "```bash\n",
    "git log --author=\"Chaitanya Jain\" # checking all the commits made by me to sympy.\n",
    "```"
   ]
  },
  {
   "cell_type": "markdown",
   "id": "94214f4e",
   "metadata": {},
   "source": [
    "to edit mailmap don't do it directly  \n",
    "first add the line  \n",
    "then\n",
    "```bash\n",
    "bin/mailap_check.py\n",
    "```"
   ]
  }
 ],
 "metadata": {
  "language_info": {
   "name": "python"
  }
 },
 "nbformat": 4,
 "nbformat_minor": 5
}
